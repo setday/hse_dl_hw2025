{
 "cells": [
  {
   "cell_type": "markdown",
   "metadata": {},
   "source": [
    "# Решение домашнего задания #5"
   ]
  },
  {
   "cell_type": "markdown",
   "metadata": {},
   "source": [
    "Для решения будем использовать Mamba модель из простой имплементации на торче (https://github.com/myscience/mamba), однако немного упрощена для большей компактности."
   ]
  },
  {
   "cell_type": "markdown",
   "metadata": {},
   "source": [
    "### Базовая настройка"
   ]
  },
  {
   "cell_type": "code",
   "execution_count": 1,
   "metadata": {},
   "outputs": [
    {
     "name": "stderr",
     "output_type": "stream",
     "text": [
      "/home/setday/.local/lib/python3.10/site-packages/tqdm/auto.py:21: TqdmWarning: IProgress not found. Please update jupyter and ipywidgets. See https://ipywidgets.readthedocs.io/en/stable/user_install.html\n",
      "  from .autonotebook import tqdm as notebook_tqdm\n"
     ]
    }
   ],
   "source": [
    "from mamba import LLMMamba, MambaConfig\n",
    "\n",
    "import torch\n",
    "from torch.utils.data import DataLoader\n",
    "\n",
    "from lightning.pytorch import Trainer, LightningModule\n",
    "\n",
    "from transformers import GPT2Tokenizer\n",
    "\n",
    "import pandas as pd\n",
    "\n",
    "from matplotlib import pyplot as plt\n",
    "import seaborn as sns"
   ]
  },
  {
   "cell_type": "code",
   "execution_count": 2,
   "metadata": {},
   "outputs": [],
   "source": [
    "torch.set_float32_matmul_precision('medium')"
   ]
  },
  {
   "cell_type": "code",
   "execution_count": 3,
   "metadata": {},
   "outputs": [],
   "source": [
    "TARGET_ROW = \"To prove that\""
   ]
  },
  {
   "cell_type": "code",
   "execution_count": null,
   "metadata": {},
   "outputs": [],
   "source": [
    "config = MambaConfig(\n",
    "    vocab_size=50304,\n",
    "    num_layers=12,\n",
    "    d_input=64,\n",
    "    d_model=64,\n",
    "    d_state=64,\n",
    "    ker_size=7,\n",
    "    d_discr=64,\n",
    "    parallel=True\n",
    ")"
   ]
  },
  {
   "cell_type": "markdown",
   "metadata": {},
   "source": [
    "### Загрузка датасета (датасет латеховских статей) и токенайзера (токенайзер GPT-2)"
   ]
  },
  {
   "cell_type": "code",
   "execution_count": 5,
   "metadata": {},
   "outputs": [],
   "source": [
    "train_ds = pd.concat([pd.read_parquet(f'../../data/proof-pile/000{i}.parquet') for i in range(3)], ignore_index=True)\n",
    "text_data = train_ds['text'].tolist()"
   ]
  },
  {
   "cell_type": "code",
   "execution_count": 6,
   "metadata": {},
   "outputs": [
    {
     "data": {
      "text/plain": [
       "1"
      ]
     },
     "execution_count": 6,
     "metadata": {},
     "output_type": "execute_result"
    }
   ],
   "source": [
    "tokenizer = GPT2Tokenizer.from_pretrained(\"gpt2\")\n",
    "tokenizer.add_special_tokens({'pad_token': '<|pad|>'})"
   ]
  },
  {
   "cell_type": "markdown",
   "metadata": {},
   "source": [
    "### Теперь нам нужен кастомный лоадер для тренировки"
   ]
  },
  {
   "cell_type": "code",
   "execution_count": 7,
   "metadata": {},
   "outputs": [],
   "source": [
    "class CustomLoader(DataLoader):\n",
    "    def __init__(self, texts, tokenizer, loader_size=16, batch_size=16, block_size=128):\n",
    "        self.texts = texts\n",
    "        self.tokenizer = tokenizer\n",
    "        self.batch_size = batch_size\n",
    "        self.block_size = block_size\n",
    "        self.loader_size = loader_size\n",
    "\n",
    "        self.text_id = -self.loader_size\n",
    "        self.page_tokens = None\n",
    "        self.page_training_pairs = None\n",
    "\n",
    "        self.next_page()\n",
    "\n",
    "        super().__init__(self, batch_size=batch_size)\n",
    "\n",
    "    def next_page(self):\n",
    "        self.text_id += self.loader_size\n",
    "        if self.text_id + self.loader_size > len(self.texts):\n",
    "            self.text_id = 0\n",
    "        self.page_tokens = [\n",
    "            self.tokenizer.encode(self.texts[self.text_id + i])\n",
    "            for i in range(self.loader_size)\n",
    "        ]\n",
    "        self.page_training_pairs = torch.tensor([\n",
    "            [\n",
    "                tokens[i:i + self.block_size],\n",
    "                tokens[i + 1:i + self.block_size + 1]\n",
    "            ]\n",
    "            for tokens in self.page_tokens\n",
    "            for i in range(0, len(tokens) - self.block_size)\n",
    "        ])\n",
    "        self.page_training_pairs = self.page_training_pairs[torch.randperm(len(self.page_training_pairs))]\n",
    "\n",
    "    def __iter__(self):\n",
    "        for i in range(0, len(self.page_training_pairs), self.batch_size * 30):\n",
    "            yield self.page_training_pairs[i:i + self.batch_size, 0, :], self.page_training_pairs[i:i + self.batch_size, 1, :]\n",
    "\n",
    "    def __len__(self):\n",
    "        return len(self.page_training_pairs) // self.batch_size // 30"
   ]
  },
  {
   "cell_type": "markdown",
   "metadata": {},
   "source": [
    "### Теперь мы готовы к обучению"
   ]
  },
  {
   "cell_type": "code",
   "execution_count": 8,
   "metadata": {},
   "outputs": [
    {
     "name": "stderr",
     "output_type": "stream",
     "text": [
      "Token indices sequence length is longer than the specified maximum sequence length for this model (7399 > 1024). Running this sequence through the model will result in indexing errors\n"
     ]
    }
   ],
   "source": [
    "dl = CustomLoader(text_data, tokenizer)"
   ]
  },
  {
   "cell_type": "code",
   "execution_count": 9,
   "metadata": {},
   "outputs": [],
   "source": [
    "class LightningMamba(LightningModule):\n",
    "    def __init__(self, config, tokenizer):\n",
    "        super().__init__()\n",
    "        self.model = LLMMamba(config)\n",
    "        self.tokenizer = tokenizer\n",
    "\n",
    "        self.loss_history = []\n",
    "\n",
    "    def forward(self, idx, targets=None):\n",
    "        logits, loss = self.model(idx, targets)\n",
    "        return logits, loss\n",
    "    \n",
    "    def configure_optimizers(self):\n",
    "        optimizer = torch.optim.AdamW(self.model.parameters(), lr=3e-4, eps=1e-8, betas=(0.9, 0.95), fused=True)\n",
    "        scheduler = torch.optim.lr_scheduler.CosineAnnealingWarmRestarts(\n",
    "            optimizer, T_0=10, T_mult=2, eta_min=1e-5\n",
    "        )\n",
    "        return {\n",
    "            'optimizer': optimizer,\n",
    "            'lr_scheduler': {\n",
    "                'scheduler': scheduler,\n",
    "                'interval': 'epoch',\n",
    "                'frequency': 1,\n",
    "            }\n",
    "        }\n",
    "    \n",
    "    def training_step(self, batch, batch_idx):\n",
    "        idx, targets = batch\n",
    "        loss = self.model.compute_loss(idx, targets)\n",
    "        self.log('train/loss', loss, on_step=True, on_epoch=True, prog_bar=True, logger=False)\n",
    "        self.loss_history.append(loss.item())\n",
    "        return loss\n",
    "    \n",
    "    def on_train_epoch_start(self):\n",
    "        seg_generator = self.model.generate(\n",
    "            prompt=TARGET_ROW,\n",
    "            tokenizer=self.tokenizer,\n",
    "            token_lim=10,\n",
    "            use_top_k=10\n",
    "        )\n",
    "        generated_text = \"\".join([seg[0] for seg in seg_generator])\n",
    "        print('test/generated_text', generated_text)\n",
    "        \n",
    "        return super().on_train_epoch_start()\n",
    "    \n",
    "    def on_train_epoch_end(self):\n",
    "        dl.next_page()\n",
    "\n",
    "        return super().on_train_epoch_end()"
   ]
  },
  {
   "cell_type": "code",
   "execution_count": 10,
   "metadata": {},
   "outputs": [],
   "source": [
    "model = LightningMamba(config, tokenizer)"
   ]
  },
  {
   "cell_type": "code",
   "execution_count": 11,
   "metadata": {},
   "outputs": [
    {
     "name": "stderr",
     "output_type": "stream",
     "text": [
      "GPU available: True (cuda), used: True\n",
      "TPU available: False, using: 0 TPU cores\n",
      "HPU available: False, using: 0 HPUs\n",
      "LOCAL_RANK: 0 - CUDA_VISIBLE_DEVICES: [0]\n",
      "\n",
      "  | Name  | Type     | Params | Mode \n",
      "-------------------------------------------\n",
      "0 | model | LLMMamba | 20.7 M | train\n",
      "-------------------------------------------\n",
      "20.7 M    Trainable params\n",
      "0         Non-trainable params\n",
      "20.7 M    Total params\n",
      "82.876    Total estimated model params size (MB)\n",
      "268       Modules in train mode\n",
      "0         Modules in eval mode\n",
      "c:\\Users\\setday\\AppData\\Local\\Programs\\Python\\Python311\\Lib\\site-packages\\lightning\\pytorch\\trainer\\connectors\\data_connector.py:424: The 'train_dataloader' does not have many workers which may be a bottleneck. Consider increasing the value of the `num_workers` argument` to `num_workers=15` in the `DataLoader` to improve performance.\n"
     ]
    },
    {
     "data": {
      "application/vnd.jupyter.widget-view+json": {
       "model_id": "a4f5b8166a6f40be810bf6f620de9d97",
       "version_major": 2,
       "version_minor": 0
      },
      "text/plain": [
       "Training: |          | 0/? [00:00<?, ?it/s]"
      ]
     },
     "metadata": {},
     "output_type": "display_data"
    },
    {
     "name": "stdout",
     "output_type": "stream",
     "text": [
      "test/generated_text To prove that plantation everybody Binary justiceskan Houth Corinthians SECTION McCull conclusion\n",
      "test/generated_text To prove that process$ means built propose nowigmaint quoteps\n",
      "test/generated_text To prove that\\ge of 7 the proof}\\label}\\text\n",
      "test/generated_text To prove that $(indent\\,\n",
      "\\textsilon\n",
      "test/generated_text To prove that}) as Thena of$ in generalL\\\n",
      "test/generated_text To prove that $$5y $ \\ note.} with the\n",
      "test/generated_text To prove that ifB_ge (\\_\\inr\n",
      "test/generated_text To prove thatA(\\ = \\item \\emph 4i\n",
      "test/generated_text To prove that wecaltau[:0u that a\n",
      "test/generated_text To prove that if \\quad}(\\ilde\\end definition of\n"
     ]
    },
    {
     "name": "stderr",
     "output_type": "stream",
     "text": [
      "`Trainer.fit` stopped: `max_epochs=10` reached.\n"
     ]
    }
   ],
   "source": [
    "trainer = Trainer(\n",
    "    max_epochs=10,\n",
    "    accelerator=\"auto\",\n",
    "    enable_progress_bar=True,\n",
    "    logger=False,\n",
    "    enable_checkpointing=False,\n",
    ")\n",
    "trainer.fit(model, train_dataloaders=dl)"
   ]
  },
  {
   "cell_type": "code",
   "execution_count": 12,
   "metadata": {},
   "outputs": [
    {
     "data": {
      "text/plain": [
       "<Axes: >"
      ]
     },
     "execution_count": 12,
     "metadata": {},
     "output_type": "execute_result"
    },
    {
     "data": {
      "image/png": "[encoded data removed]",
      "text/plain": [
       "<Figure size 1000x500 with 1 Axes>"
      ]
     },
     "metadata": {},
     "output_type": "display_data"
    }
   ],
   "source": [
    "plt.figure(figsize=(10, 5))\n",
    "sns.lineplot(x=range(len(model.loss_history)), y=model.loss_history, label='Loss')"
   ]
  },
  {
   "cell_type": "markdown",
   "metadata": {},
   "source": [
    "### Смотрим, что же получилось\n",
    "\n",
    "_предварительно откатываем модель до 3-ей эпохи_"
   ]
  },
  {
   "cell_type": "code",
   "execution_count": 13,
   "metadata": {},
   "outputs": [
    {
     "name": "stdout",
     "output_type": "stream",
     "text": [
      "test/generated_text To prove that we.==1},H\\$ by \\^{\\T \\sumin of wee.}-B1}(ii that satisfies from we can 1 with some=beta+1{\n",
      "  Let= is a result(S:CA}(4_{. Let \\ref}\\tR[-0-v, then bybeta for and \\emph{Gl:d .\n",
      "theta_RT (rr~s{x\\Nint set that it is $L an Gc$, respectivelyem+ the existenceqjoint = $(e:3M $v}\\label} byg is to \\begin{ and has<^(5\\end and (s-1 $},{cor:25muv+L},P}\\bigs^{iH,j1_1(ii $\\$ for}\n",
      "\n",
      "\n",
      "a.}_{. There and a constant). Ad--F:, which implies=mhspace such\\fracU,\n",
      "$$ and it and in $\\:K[sub used \\times\n",
      "1\\:=Zin then-{G11x \\frac{S}\n",
      "\\$, a} and the only if the)\\ and using':h73}\\^{1+),frho, withma^s (\\= does obtain a})=Aeqp\n",
      " Theorem_. Av, a})_a as anfQ\n"
     ]
    }
   ],
   "source": [
    "generated_text = \"\".join([tok[0] for tok in model.model.generate(\n",
    "    TARGET_ROW,\n",
    "    tokenizer=tokenizer,\n",
    "    token_lim=300,\n",
    "    use_top_k=10\n",
    ")])\n",
    "print('test/generated_text', generated_text)"
   ]
  },
  {
   "cell_type": "code",
   "execution_count": 14,
   "metadata": {},
   "outputs": [],
   "source": [
    "def plot_weights(weights, title='Attention Weights'):\n",
    "    fig, ax = plt.subplots(3, 4, figsize=(12, 6))\n",
    "    fig.suptitle(title, fontsize=16)\n",
    "\n",
    "    for i in range(weights.shape[0]):\n",
    "        sns.heatmap(weights[i].detach().cpu().numpy(), ax=ax[i // 4][i % 4], square=True)\n",
    "        ax[i // 4][i % 4].set_title(f'Head {i+1}')\n",
    "        ax[i // 4][i % 4].axis('off')\n",
    "\n",
    "    plt.tight_layout()\n",
    "    plt.show()"
   ]
  },
  {
   "cell_type": "code",
   "execution_count": 15,
   "metadata": {},
   "outputs": [
    {
     "ename": "AttributeError",
     "evalue": "'LLMMamba' object has no attribute 'transformer'",
     "output_type": "error",
     "traceback": [
      "\u001b[1;31m---------------------------------------------------------------------------\u001b[0m",
      "\u001b[1;31mAttributeError\u001b[0m                            Traceback (most recent call last)",
      "Cell \u001b[1;32mIn[15], line 1\u001b[0m\n\u001b[1;32m----> 1\u001b[0m plot_weights(\u001b[43mmodel\u001b[49m\u001b[38;5;241;43m.\u001b[39;49m\u001b[43mmodel\u001b[49m\u001b[38;5;241;43m.\u001b[39;49m\u001b[43mtransformer\u001b[49m\u001b[38;5;241m.\u001b[39mh[\u001b[38;5;241m0\u001b[39m]\u001b[38;5;241m.\u001b[39msaved_head_weight[\u001b[38;5;241m0\u001b[39m], title\u001b[38;5;241m=\u001b[39m\u001b[38;5;124m'\u001b[39m\u001b[38;5;124mAttention Weights - Layer 0\u001b[39m\u001b[38;5;124m'\u001b[39m)\n\u001b[0;32m      2\u001b[0m plot_weights(model\u001b[38;5;241m.\u001b[39mmodel\u001b[38;5;241m.\u001b[39mtransformer\u001b[38;5;241m.\u001b[39mh[\u001b[38;5;241m6\u001b[39m]\u001b[38;5;241m.\u001b[39msaved_head_weight[\u001b[38;5;241m0\u001b[39m], title\u001b[38;5;241m=\u001b[39m\u001b[38;5;124m'\u001b[39m\u001b[38;5;124mAttention Weights - Layer 6\u001b[39m\u001b[38;5;124m'\u001b[39m)\n\u001b[0;32m      3\u001b[0m plot_weights(model\u001b[38;5;241m.\u001b[39mmodel\u001b[38;5;241m.\u001b[39mtransformer\u001b[38;5;241m.\u001b[39mh[\u001b[38;5;241m-\u001b[39m\u001b[38;5;241m1\u001b[39m]\u001b[38;5;241m.\u001b[39msaved_head_weight[\u001b[38;5;241m0\u001b[39m], title\u001b[38;5;241m=\u001b[39m\u001b[38;5;124m'\u001b[39m\u001b[38;5;124mAttention Weights - Last Layer\u001b[39m\u001b[38;5;124m'\u001b[39m)\n",
      "File \u001b[1;32mc:\\Users\\setday\\AppData\\Local\\Programs\\Python\\Python311\\Lib\\site-packages\\torch\\nn\\modules\\module.py:1931\u001b[0m, in \u001b[0;36mModule.__getattr__\u001b[1;34m(self, name)\u001b[0m\n\u001b[0;32m   1929\u001b[0m     \u001b[38;5;28;01mif\u001b[39;00m name \u001b[38;5;129;01min\u001b[39;00m modules:\n\u001b[0;32m   1930\u001b[0m         \u001b[38;5;28;01mreturn\u001b[39;00m modules[name]\n\u001b[1;32m-> 1931\u001b[0m \u001b[38;5;28;01mraise\u001b[39;00m \u001b[38;5;167;01mAttributeError\u001b[39;00m(\n\u001b[0;32m   1932\u001b[0m     \u001b[38;5;124mf\u001b[39m\u001b[38;5;124m\"\u001b[39m\u001b[38;5;124m'\u001b[39m\u001b[38;5;132;01m{\u001b[39;00m\u001b[38;5;28mtype\u001b[39m(\u001b[38;5;28mself\u001b[39m)\u001b[38;5;241m.\u001b[39m\u001b[38;5;18m__name__\u001b[39m\u001b[38;5;132;01m}\u001b[39;00m\u001b[38;5;124m'\u001b[39m\u001b[38;5;124m object has no attribute \u001b[39m\u001b[38;5;124m'\u001b[39m\u001b[38;5;132;01m{\u001b[39;00mname\u001b[38;5;132;01m}\u001b[39;00m\u001b[38;5;124m'\u001b[39m\u001b[38;5;124m\"\u001b[39m\n\u001b[0;32m   1933\u001b[0m )\n",
      "\u001b[1;31mAttributeError\u001b[0m: 'LLMMamba' object has no attribute 'transformer'"
     ]
    }
   ],
   "source": [
    "plot_weights(model.model.transformer.h[0].saved_head_weight[0], title='Attention Weights - Layer 0')\n",
    "plot_weights(model.model.transformer.h[6].saved_head_weight[0], title='Attention Weights - Layer 6')\n",
    "plot_weights(model.model.transformer.h[-1].saved_head_weight[0], title='Attention Weights - Last Layer')"
   ]
  },
  {
   "cell_type": "markdown",
   "metadata": {},
   "source": [
    "# Итоги"
   ]
  },
  {
   "cell_type": "markdown",
   "metadata": {},
   "source": [
    "1. Модель довольно быстро обучилась на корпусе научных статей (`за 3 эпохи`). Это связано с тем, что в ней весьма мало параметров (`15 M`), равно как и мало контекстное окно (`128 токенов`). Дальше наинает происходить уже переобучение, которое легко заметить по повторяющимся токенам.\n",
    "2. График потерь имеет весбма странную тенденцию: в начале он явно опускается, но начиная с `4-ой` эпохи потери начинают расти (по нижней границе). Это могло бы свидетельствовать о переобучении, однако на `4-ой` эпохе модель также выдавала весьма сомнительные результаты.\n",
    "3. Интересная ситуация происходит и с головами: головы первого уровня распыляют своё внимание на весь контекст, тогда как ближе к концу у нас уже соединяются отдельные конструкции (отдельные токены). При переобучении (на `10 эпохе`) все головы выглядят почти одинаково - внимание только на первых токенах, что очень легко объясняет то, почему модель начинает повторяться."
   ]
  },
  {
   "cell_type": "markdown",
   "metadata": {},
   "source": [
    "|                           | Mamba    | GPT         | MambaPy   | \n",
    "|---------------------------|----------|-------------|-----------|\n",
    "| Training time             | 11m 4,0s | **3m 4.2s** | 10m 23.0s |\n",
    "| 300 token generation time | 10.1     | 9.5s        | **5.3s**  |\n",
    "| Size                      | 20.7 M   | 15.0 M      | **7.1 M** |\n",
    "| Quality                   | 1/5      | 4/5         | 4/5       |"
   ]
  },
  {
   "cell_type": "markdown",
   "metadata": {},
   "source": [
    "4. Дополнительно был проведен эксперимент на библиотеке MambaPyб которая имеет уже реализованную архитектуру. Её качество оказалось "
   ]
  }
 ],
 "metadata": {
  "kernelspec": {
   "display_name": "Python 3",
   "language": "python",
   "name": "python3"
  },
  "language_info": {
   "codemirror_mode": {
    "name": "ipython",
    "version": 3
   },
   "file_extension": ".py",
   "mimetype": "text/x-python",
   "name": "python",
   "nbconvert_exporter": "python",
   "pygments_lexer": "ipython3",
   "version": "3.10.12"
  }
 },
 "nbformat": 4,
 "nbformat_minor": 2
}
