{
 "cells": [
  {
   "cell_type": "markdown",
   "metadata": {},
   "source": [
    "# Решение домашнего задания #5"
   ]
  },
  {
   "cell_type": "markdown",
   "metadata": {},
   "source": [
    "Для решения будем использовать Mamba модель из простой имплементации на торче (https://github.com/myscience/mamba), однако немного упрощена для большей компактности."
   ]
  },
  {
   "cell_type": "markdown",
   "metadata": {},
   "source": [
    "### Базовая настройка"
   ]
  },
  {
   "cell_type": "code",
   "execution_count": 12,
   "metadata": {},
   "outputs": [],
   "source": [
    "import torch\n",
    "from torch.utils.data import DataLoader\n",
    "from mambapy.lm import LM, MambaConfig\n",
    "\n",
    "from lightning.pytorch import Trainer, LightningModule\n",
    "\n",
    "from transformers import GPT2Tokenizer\n",
    "\n",
    "import pandas as pd\n",
    "\n",
    "from matplotlib import pyplot as plt\n",
    "\n",
    "\n",
    "from einops import rearrange\n",
    "from torch.nn.functional import cross_entropy\n",
    "import seaborn as sns"
   ]
  },
  {
   "cell_type": "code",
   "execution_count": 2,
   "metadata": {},
   "outputs": [],
   "source": [
    "torch.set_float32_matmul_precision('medium')"
   ]
  },
  {
   "cell_type": "code",
   "execution_count": 3,
   "metadata": {},
   "outputs": [],
   "source": [
    "TARGET_ROW = \"To prove that\""
   ]
  },
  {
   "cell_type": "code",
   "execution_count": null,
   "metadata": {},
   "outputs": [],
   "source": [
    "config = MambaConfig(\n",
    "    n_layers=12,\n",
    "    d_model=64,\n",
    "    d_state=64,\n",
    "    d_conv=12,\n",
    ")"
   ]
  },
  {
   "cell_type": "markdown",
   "metadata": {},
   "source": [
    "### Загрузка датасета (датасет латеховских статей) и токенайзера (токенайзер GPT-2)"
   ]
  },
  {
   "cell_type": "code",
   "execution_count": 5,
   "metadata": {},
   "outputs": [],
   "source": [
    "train_ds = pd.concat([pd.read_parquet(f'../../data/proof-pile/000{i}.parquet') for i in range(3)], ignore_index=True)\n",
    "text_data = train_ds['text'].tolist()"
   ]
  },
  {
   "cell_type": "code",
   "execution_count": 6,
   "metadata": {},
   "outputs": [
    {
     "data": {
      "text/plain": [
       "1"
      ]
     },
     "execution_count": 6,
     "metadata": {},
     "output_type": "execute_result"
    }
   ],
   "source": [
    "tokenizer = GPT2Tokenizer.from_pretrained(\"gpt2\")\n",
    "tokenizer.add_special_tokens({'pad_token': '<|pad|>'})"
   ]
  },
  {
   "cell_type": "markdown",
   "metadata": {},
   "source": [
    "### Теперь нам нужен кастомный лоадер для тренировки"
   ]
  },
  {
   "cell_type": "code",
   "execution_count": 7,
   "metadata": {},
   "outputs": [],
   "source": [
    "class CustomLoader(DataLoader):\n",
    "    def __init__(self, texts, tokenizer, loader_size=16, batch_size=16, block_size=128):\n",
    "        self.texts = texts\n",
    "        self.tokenizer = tokenizer\n",
    "        self.batch_size = batch_size\n",
    "        self.block_size = block_size\n",
    "        self.loader_size = loader_size\n",
    "\n",
    "        self.text_id = -self.loader_size\n",
    "        self.page_tokens = None\n",
    "        self.page_training_pairs = None\n",
    "\n",
    "        self.next_page()\n",
    "\n",
    "        super().__init__(self, batch_size=batch_size)\n",
    "\n",
    "    def next_page(self):\n",
    "        self.text_id += self.loader_size\n",
    "        if self.text_id + self.loader_size > len(self.texts):\n",
    "            self.text_id = 0\n",
    "        self.page_tokens = [\n",
    "            self.tokenizer.encode(self.texts[self.text_id + i])\n",
    "            for i in range(self.loader_size)\n",
    "        ]\n",
    "        self.page_training_pairs = torch.tensor([\n",
    "            [\n",
    "                tokens[i:i + self.block_size],\n",
    "                tokens[i + 1:i + self.block_size + 1]\n",
    "            ]\n",
    "            for tokens in self.page_tokens\n",
    "            for i in range(0, len(tokens) - self.block_size)\n",
    "        ])\n",
    "        self.page_training_pairs = self.page_training_pairs[torch.randperm(len(self.page_training_pairs))]\n",
    "\n",
    "    def __iter__(self):\n",
    "        for i in range(0, len(self.page_training_pairs), self.batch_size * 30):\n",
    "            yield self.page_training_pairs[i:i + self.batch_size, 0, :], self.page_training_pairs[i:i + self.batch_size, 1, :]\n",
    "\n",
    "    def __len__(self):\n",
    "        return len(self.page_training_pairs) // self.batch_size // 30"
   ]
  },
  {
   "cell_type": "markdown",
   "metadata": {},
   "source": [
    "### Теперь мы готовы к обучению"
   ]
  },
  {
   "cell_type": "code",
   "execution_count": 8,
   "metadata": {},
   "outputs": [
    {
     "name": "stderr",
     "output_type": "stream",
     "text": [
      "Token indices sequence length is longer than the specified maximum sequence length for this model (7399 > 1024). Running this sequence through the model will result in indexing errors\n"
     ]
    }
   ],
   "source": [
    "dl = CustomLoader(text_data, tokenizer)"
   ]
  },
  {
   "cell_type": "code",
   "execution_count": 9,
   "metadata": {},
   "outputs": [],
   "source": [
    "class LightningMamba(LightningModule):\n",
    "    def __init__(self, config, tokenizer):\n",
    "        super().__init__()\n",
    "        self.model = LM(config, vocab_size=50304)\n",
    "        self.tokenizer = tokenizer\n",
    "\n",
    "        self.loss_history = []\n",
    "\n",
    "    def forward(self, idx):\n",
    "        logits = self.model(idx)\n",
    "        return logits\n",
    "    \n",
    "    def configure_optimizers(self):\n",
    "        optimizer = torch.optim.AdamW(self.model.parameters(), lr=3e-4, eps=1e-8, betas=(0.9, 0.95), fused=True)\n",
    "        scheduler = torch.optim.lr_scheduler.CosineAnnealingWarmRestarts(\n",
    "            optimizer, T_0=10, T_mult=2, eta_min=1e-5\n",
    "        )\n",
    "        return {\n",
    "            'optimizer': optimizer,\n",
    "            'lr_scheduler': {\n",
    "                'scheduler': scheduler,\n",
    "                'interval': 'epoch',\n",
    "                'frequency': 1,\n",
    "            }\n",
    "        }\n",
    "    \n",
    "    def training_step(self, batch, batch_idx):\n",
    "        idx, targets = batch\n",
    "\n",
    "        pred = self(idx)\n",
    "\n",
    "        pred = rearrange(pred, 'b s v -> (b s) v')\n",
    "        targets = rearrange(targets, 'b s -> (b s)')\n",
    "        \n",
    "        loss = cross_entropy(pred, targets)\n",
    "        \n",
    "        self.log('train/loss', loss, on_step=True, on_epoch=True, prog_bar=True, logger=False)\n",
    "        self.loss_history.append(loss.item())\n",
    "        return loss\n",
    "    \n",
    "    def on_train_epoch_start(self):\n",
    "        seg_generator = self.model.generate(\n",
    "            prompt=TARGET_ROW,\n",
    "            tokenizer=self.tokenizer,\n",
    "            num_tokens=10,\n",
    "            top_k=10\n",
    "        )\n",
    "        generated_text = \"\".join([seg[0] for seg in seg_generator])\n",
    "        print('test/generated_text', generated_text)\n",
    "        \n",
    "        return super().on_train_epoch_start()\n",
    "    \n",
    "    def on_train_epoch_end(self):\n",
    "        dl.next_page()\n",
    "\n",
    "        return super().on_train_epoch_end()"
   ]
  },
  {
   "cell_type": "code",
   "execution_count": 10,
   "metadata": {},
   "outputs": [],
   "source": [
    "model = LightningMamba(config, tokenizer)"
   ]
  },
  {
   "cell_type": "code",
   "execution_count": 11,
   "metadata": {},
   "outputs": [
    {
     "name": "stderr",
     "output_type": "stream",
     "text": [
      "GPU available: True (cuda), used: True\n",
      "TPU available: False, using: 0 TPU cores\n",
      "HPU available: False, using: 0 HPUs\n",
      "LOCAL_RANK: 0 - CUDA_VISIBLE_DEVICES: [0]\n",
      "\n",
      "  | Name  | Type | Params | Mode \n",
      "---------------------------------------\n",
      "0 | model | LM   | 7.1 M  | train\n",
      "---------------------------------------\n",
      "7.1 M     Trainable params\n",
      "0         Non-trainable params\n",
      "7.1 M     Total params\n",
      "28.260    Total estimated model params size (MB)\n",
      "102       Modules in train mode\n",
      "0         Modules in eval mode\n",
      "/home/setday/.local/lib/python3.10/site-packages/lightning/pytorch/trainer/connectors/data_connector.py:424: The 'train_dataloader' does not have many workers which may be a bottleneck. Consider increasing the value of the `num_workers` argument` to `num_workers=15` in the `DataLoader` to improve performance.\n"
     ]
    },
    {
     "name": "stdout",
     "output_type": "stream",
     "text": [
      "Epoch 0:   0%|          | 0/250 [00:00<?, ?it/s] test/generated_text To prove thattemeter Universchuhit paranoia copschemy712 strips\n",
      "Epoch 1:   0%|          | 0/250 [00:00<?, ?it/s, train/loss_step=5.800, train/loss_epoch=7.740]          test/generated_text To prove that\\n$ ofnn} \\\n",
      "}\n",
      "Epoch 2:   0%|          | 0/250 [00:00<?, ?it/s, train/loss_step=4.210, train/loss_epoch=5.350]          test/generated_text To prove that, $\\mu\n",
      "(\\end{\\in\n",
      "Epoch 3:   0%|          | 0/250 [00:00<?, ?it/s, train/loss_step=3.500, train/loss_epoch=4.250]          test/generated_text To prove that $0\\right)$.\n",
      "\\begin{\n",
      "Epoch 4:   0%|          | 0/250 [00:00<?, ?it/s, train/loss_step=3.490, train/loss_epoch=4.010]          test/generated_text To prove that $\\mathbb{C}_{i-1\n",
      "Epoch 5:   0%|          | 0/250 [00:00<?, ?it/s, train/loss_step=3.300, train/loss_epoch=3.960]          test/generated_text To prove that $\\mathbf{C}_n(t\n",
      "Epoch 6:   0%|          | 0/250 [00:00<?, ?it/s, train/loss_step=3.410, train/loss_epoch=3.830]          test/generated_text To prove that $N_{\\mathcal{N}_\n",
      "Epoch 7:   0%|          | 0/250 [00:00<?, ?it/s, train/loss_step=3.560, train/loss_epoch=3.800]          test/generated_text To prove that $v \\in{R^n \\times\n",
      "Epoch 8:   0%|          | 0/250 [00:00<?, ?it/s, train/loss_step=4.010, train/loss_epoch=3.790]          test/generated_text To prove that $\\mathcal{x}_{x}\\le\n",
      "Epoch 9:   0%|          | 0/250 [00:00<?, ?it/s, train/loss_step=4.230, train/loss_epoch=4.550]         test/generated_text To prove that a\n",
      "\\begin{enumerate} \\\n",
      "Epoch 9: 100%|██████████| 250/250 [01:09<00:00,  3.58it/s, train/loss_step=3.580, train/loss_epoch=3.960]"
     ]
    },
    {
     "name": "stderr",
     "output_type": "stream",
     "text": [
      "`Trainer.fit` stopped: `max_epochs=10` reached.\n"
     ]
    },
    {
     "name": "stdout",
     "output_type": "stream",
     "text": [
      "Epoch 9: 100%|██████████| 250/250 [01:14<00:00,  3.36it/s, train/loss_step=3.580, train/loss_epoch=3.960]\n"
     ]
    }
   ],
   "source": [
    "trainer = Trainer(\n",
    "    max_epochs=10,\n",
    "    accelerator=\"cuda\",\n",
    "    enable_progress_bar=True,\n",
    "    logger=False,\n",
    "    enable_checkpointing=False,\n",
    ")\n",
    "trainer.fit(model, train_dataloaders=dl)"
   ]
  },
  {
   "cell_type": "code",
   "execution_count": 13,
   "metadata": {},
   "outputs": [
    {
     "data": {
      "text/plain": [
       "<Axes: >"
      ]
     },
     "execution_count": 13,
     "metadata": {},
     "output_type": "execute_result"
    },
    {
     "data": {
      "image/png": "[encoded data removed]",
      "text/plain": [
       "<Figure size 1000x500 with 1 Axes>"
      ]
     },
     "metadata": {},
     "output_type": "display_data"
    }
   ],
   "source": [
    "plt.figure(figsize=(10, 5))\n",
    "sns.lineplot(x=range(len(model.loss_history)), y=model.loss_history, label='Loss')"
   ]
  },
  {
   "cell_type": "markdown",
   "metadata": {},
   "source": [
    "### Смотрим, что же получилось\n",
    "\n",
    "_предварительно откатываем модель до 3-ей эпохи_"
   ]
  },
  {
   "cell_type": "code",
   "execution_count": 15,
   "metadata": {},
   "outputs": [
    {
     "name": "stdout",
     "output_type": "stream",
     "text": [
      "test/generated_text To prove that $C^{n+1}$ for $\\mathbf{X}_p$,\n",
      "\\begin{equation*}\\label{c:1}\n",
      "\\frac{1}{\\mathbf{\\bar\\lambda}^2)^{-1}1^{*-1+1+k}{4}^\\sum_{i=0}^2(x+\\mathbf{1}\\frac{2\\frac{t+\\frac\\int_{\\sigma^{-1}=\\math}^\\in[0,\\infty)$, which is the $d$ be a single case, the same $k^\\eta\\in \\tilde\\rfloor^2$ with $t$ are not a constant $\\theta$, we have that\n",
      " \\subsection{\\bf\\|\\rho^t\\(\\mathbf{x+2}\\|_{\\tau}\\|\\R^2\\right)\\|^1(t\\|_{\\Ls}{t}\\int_{\\sigma^\\infty}+\\sigma(x+q+\\frac{\\frac{2}{1})=\\frac{1}{4}(\\eta_\\E}+\\right)^\\right,\\|\\hat \\R^\\le \\|\\alpha\\||\\x\\|\\Lr^{1-\\mathcal{B}}(X)}{\n"
     ]
    }
   ],
   "source": [
    "generated_text = \"\".join([tok[0] for tok in model.model.generate(\n",
    "    prompt=TARGET_ROW,\n",
    "    tokenizer=tokenizer,\n",
    "    num_tokens=300,\n",
    "    top_k=10\n",
    ")])\n",
    "print('test/generated_text', generated_text)"
   ]
  },
  {
   "cell_type": "code",
   "execution_count": 16,
   "metadata": {},
   "outputs": [],
   "source": [
    "def plot_weights(weights, title='Attention Weights'):\n",
    "    fig, ax = plt.subplots(3, 4, figsize=(12, 6))\n",
    "    fig.suptitle(title, fontsize=16)\n",
    "\n",
    "    for i in range(weights.shape[0]):\n",
    "        sns.heatmap(weights[i].detach().cpu().numpy(), ax=ax[i // 4][i % 4], square=True)\n",
    "        ax[i // 4][i % 4].set_title(f'Head {i+1}')\n",
    "        ax[i // 4][i % 4].axis('off')\n",
    "\n",
    "    plt.tight_layout()\n",
    "    plt.show()"
   ]
  }
 ],
 "metadata": {
  "kernelspec": {
   "display_name": "Python 3",
   "language": "python",
   "name": "python3"
  },
  "language_info": {
   "codemirror_mode": {
    "name": "ipython",
    "version": 3
   },
   "file_extension": ".py",
   "mimetype": "text/x-python",
   "name": "python",
   "nbconvert_exporter": "python",
   "pygments_lexer": "ipython3",
   "version": "3.10.12"
  }
 },
 "nbformat": 4,
 "nbformat_minor": 2
}
