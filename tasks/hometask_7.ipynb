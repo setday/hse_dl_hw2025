{
 "cells": [
  {
   "cell_type": "markdown",
   "id": "c4961a28",
   "metadata": {},
   "source": [
    "## Домашнее задание: Обучение модели на двух модальностях\n",
    "\n",
    "### Цель задания\n",
    "\n",
    "1. Обучить простую модель любого семейства для обработки данных двух видов\n",
    "2. Сделать выводы"
   ]
  }
 ],
 "metadata": {
  "kernelspec": {
   "display_name": "Python 3",
   "language": "python",
   "name": "python3"
  },
  "language_info": {
   "codemirror_mode": {
    "name": "ipython",
    "version": 3
   },
   "file_extension": ".py",
   "mimetype": "text/x-python",
   "name": "python",
   "nbconvert_exporter": "python",
   "pygments_lexer": "ipython3",
   "version": "3.11.3"
  }
 },
 "nbformat": 4,
 "nbformat_minor": 5
}
