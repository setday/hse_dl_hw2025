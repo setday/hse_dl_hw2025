{
 "cells": [
  {
   "cell_type": "markdown",
   "id": "b1ca6cb6-8778-452c-a97c-2f784e7110d0",
   "metadata": {},
   "source": [
    "## Домашнее задание: Обучение и визуализация трансформера\n",
    "\n",
    "### Цель задания\n",
    "\n",
    "1. Обучить простую модель трансформера для обработки любых данных (на выбор: текст, аудио, видео, изображения и ...)\n",
    "2. Визуализировать веса внимания и интерпретировать их\n",
    "3. Сделать выводы о том, как модель воспринимает данные и принимает решения"
   ]
  }
 ],
 "metadata": {
  "kernelspec": {
   "display_name": "Python 3 (ipykernel)",
   "language": "python",
   "name": "python3"
  },
  "language_info": {
   "codemirror_mode": {
    "name": "ipython",
    "version": 3
   },
   "file_extension": ".py",
   "mimetype": "text/x-python",
   "name": "python",
   "nbconvert_exporter": "python",
   "pygments_lexer": "ipython3",
   "version": "3.12.8"
  }
 },
 "nbformat": 4,
 "nbformat_minor": 5
}
